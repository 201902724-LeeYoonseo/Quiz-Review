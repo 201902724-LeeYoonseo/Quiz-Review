{
 "cells": [
  {
   "cell_type": "markdown",
   "id": "a325935f-0b16-44d1-af6c-a3af7086cc2b",
   "metadata": {},
   "source": [
    "## 1. 편의점 매출 계산하기"
   ]
  },
  {
   "cell_type": "code",
   "execution_count": 3,
   "id": "1e6d089e-2981-4b7a-bbe9-51eca0fdf91b",
   "metadata": {},
   "outputs": [
    {
     "name": "stdout",
     "output_type": "stream",
     "text": [
      "총 매출 액은 18622원 입니다.\n"
     ]
    }
   ],
   "source": [
    "# 1. 매출을 계산하는 부분이 반복되므로 함수 생성\n",
    "def calc_sales(price, prime_cost, number):\n",
    "    '''\n",
    "    물건의 매출을 계산하는 함수 \n",
    "    입력:\n",
    "        price: int, 소비자가\n",
    "        prime_cost: int, 원가\n",
    "        number: int, 개수\n",
    "    출력:\n",
    "        int, 물건의 매출\n",
    "    '''\n",
    "    sales = (price - prime_cost) * number \n",
    "    if number >= 5: \n",
    "        sales = sales * 0.85\n",
    "    return int(sales)\n",
    "\n",
    "# 2. 함수를 이용해 매출을 계산하고 각 품목의 변수에 할당\n",
    "viyotte = calc_sales(1300, 480, 3)\n",
    "triangle_kimbap = calc_sales(2500, 900, 5)\n",
    "coke = calc_sales(800, 380, 6)\n",
    "banana = calc_sales(3200, 1050, 2)\n",
    "homerunball = calc_sales(1500, 770, 4)\n",
    "\n",
    "# 3. 품목의 매출을 모두 더하여 총 매출액 출력\n",
    "total_sales = (f'총 매출 액은 {viyotte + triangle_kimbap + coke + banana + homerunball}원 입니다.')\n",
    "print(total_sales)"
   ]
  },
  {
   "cell_type": "markdown",
   "id": "b280f5ef-ff2e-46b7-b5ba-ff3e36099b49",
   "metadata": {},
   "source": [
    "---"
   ]
  },
  {
   "cell_type": "markdown",
   "id": "a9cb17f8-dc49-4603-945c-a2bd7c728175",
   "metadata": {},
   "source": [
    "## 3. 달팽이"
   ]
  },
  {
   "cell_type": "code",
   "execution_count": 10,
   "id": "fe9a8836-e1d6-4a98-9b70-d885800e5243",
   "metadata": {},
   "outputs": [
    {
     "name": "stdout",
     "output_type": "stream",
     "text": [
      "달팽이가 350m인 나무 막대기 정상까지 올라가는데 116일이 걸립니다.\n"
     ]
    }
   ],
   "source": [
    "# 1. 며칠이 걸리는지 계산할 때 헷갈리지 않기위해 변수에 할당\n",
    "tree_height = 350\n",
    "climbing = 5\n",
    "slipping = 2\n",
    "\n",
    "# 2-1. 정상에 도달하면 미끄러지지 않기 때문에 나무 막대기 높이에서 미끄러지는 길이를 빼준다.\n",
    "# 2-2. 그것을 하루에 올라가는 길이로 나누어주면 며칠이 걸리는지 나온다. \n",
    "# 2-3. 116.0으로 나오기 때문에 int로 형변환을 해준다.\n",
    "total_day = int((tree_height - slipping) / (climbing - slipping))\n",
    "\n",
    "print(f'달팽이가 {tree_height}m인 나무 막대기 정상까지 올라가는데 {total_day}일이 걸립니다.')"
   ]
  },
  {
   "cell_type": "markdown",
   "id": "4804d63a-168b-45f2-929b-88763573bde1",
   "metadata": {},
   "source": [
    "---"
   ]
  },
  {
   "cell_type": "markdown",
   "id": "357184d9-3003-45ba-94a8-82bc3a9cd511",
   "metadata": {},
   "source": [
    "## 4. 큰 수 찾기"
   ]
  },
  {
   "cell_type": "code",
   "execution_count": 36,
   "id": "8e3d68a1-35f4-457f-ba4d-f26cfa606b22",
   "metadata": {},
   "outputs": [
    {
     "name": "stdin",
     "output_type": "stream",
     "text": [
      "세 수를 입력하세요(예: 12 14 15)>>> 65 31 10\n"
     ]
    },
    {
     "name": "stdout",
     "output_type": "stream",
     "text": [
      "가장 큰 수는 65입니다.\n"
     ]
    }
   ],
   "source": [
    "# 1. map 함수를 이용해 입력받은 세 수를 int 형변환하여 공백을 기준으로 나눈다.\n",
    "num1, num2, num3 = map(int, input('세 수를 입력하세요(예: 12 14 15)>>>').split())\n",
    "\n",
    "# 2. if문을 사용하여 각 값을 비교해 가장 큰 값을 구한다.\n",
    "if (num1 > num2) and (num1 > num3):\n",
    "    print(f'가장 큰 수는 {num1}입니다.')\n",
    "elif num2 > num3:\n",
    "    print(f'가장 큰 수는 {num2}입니다.')\n",
    "else:\n",
    "    print(f'가장 큰 수는 {num3}입니다.')"
   ]
  },
  {
   "cell_type": "code",
   "execution_count": null,
   "id": "52c402e5-cdb6-4aa2-b940-8d0767c50f6d",
   "metadata": {},
   "outputs": [],
   "source": []
  }
 ],
 "metadata": {
  "kernelspec": {
   "display_name": "Python 3 (ipykernel)",
   "language": "python",
   "name": "python3"
  },
  "language_info": {
   "codemirror_mode": {
    "name": "ipython",
    "version": 3
   },
   "file_extension": ".py",
   "mimetype": "text/x-python",
   "name": "python",
   "nbconvert_exporter": "python",
   "pygments_lexer": "ipython3",
   "version": "3.9.7"
  }
 },
 "nbformat": 4,
 "nbformat_minor": 5
}
